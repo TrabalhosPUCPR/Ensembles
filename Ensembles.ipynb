{
  "cells": [
    {
      "cell_type": "markdown",
      "metadata": {
        "id": "view-in-github",
        "colab_type": "text"
      },
      "source": [
        "<a href=\"https://colab.research.google.com/github/TrabalhosPUCPR/Ensembles/blob/main/Ensembles.ipynb\" target=\"_parent\"><img src=\"https://colab.research.google.com/assets/colab-badge.svg\" alt=\"Open In Colab\"/></a>"
      ]
    },
    {
      "cell_type": "code",
      "execution_count": null,
      "metadata": {
        "collapsed": true,
        "ExecuteTime": {
          "end_time": "2023-05-28T20:04:51.764354931Z",
          "start_time": "2023-05-28T20:04:51.721452691Z"
        },
        "id": "yw_h0Kp_95XF"
      },
      "outputs": [],
      "source": [
        "# GRUPO: \n",
        "# Gabrielle Louise, Leonardo Knight\n",
        "\n",
        "import pandas as pd\n",
        "import numpy as np\n",
        "import time\n",
        "import matplotlib.pyplot as plt\n",
        "from sklearn.model_selection import train_test_split\n",
        "from sklearn.tree import DecisionTreeClassifier\n",
        "from sklearn.neural_network import MLPClassifier\n",
        "from sklearn.ensemble import BaggingClassifier, AdaBoostClassifier\n",
        "from imblearn.over_sampling import RandomOverSampler\n",
        "from sklearn.metrics import accuracy_score, classification_report, confusion_matrix, ConfusionMatrixDisplay"
      ]
    },
    {
      "cell_type": "code",
      "execution_count": null,
      "outputs": [
        {
          "output_type": "stream",
          "name": "stdout",
          "text": [
            "--2023-05-28 20:12:55--  https://datahub.io/machine-learning/autos/r/1.csv\n",
            "Resolving datahub.io (datahub.io)... 188.114.97.0, 188.114.96.0, 2a06:98c1:3120::, ...\n",
            "Connecting to datahub.io (datahub.io)|188.114.97.0|:443... connected.\n",
            "HTTP request sent, awaiting response... 302 Found\n",
            "Location: https://pkgstore.datahub.io/machine-learning/autos/autos_csv/data/ac57bdf06d1a1f187db720ba88c6afeb/autos_csv.csv [following]\n",
            "--2023-05-28 20:12:56--  https://pkgstore.datahub.io/machine-learning/autos/autos_csv/data/ac57bdf06d1a1f187db720ba88c6afeb/autos_csv.csv\n",
            "Resolving pkgstore.datahub.io (pkgstore.datahub.io)... 188.114.96.0, 188.114.97.0, 2a06:98c1:3120::, ...\n",
            "Connecting to pkgstore.datahub.io (pkgstore.datahub.io)|188.114.96.0|:443... connected.\n",
            "HTTP request sent, awaiting response... 200 OK\n",
            "Length: 25011 (24K) [text/csv]\n",
            "Saving to: ‘autos.csv’\n",
            "\n",
            "autos.csv           100%[===================>]  24.42K  --.-KB/s    in 0s      \n",
            "\n",
            "2023-05-28 20:12:56 (129 MB/s) - ‘autos.csv’ saved [25011/25011]\n",
            "\n"
          ]
        }
      ],
      "source": [
        "#Download\n",
        "!wget https://datahub.io/machine-learning/autos/r/1.csv -O autos.csv"
      ],
      "metadata": {
        "ExecuteTime": {
          "end_time": "2023-05-28T20:03:33.771211882Z",
          "start_time": "2023-05-28T20:03:03.563509334Z"
        },
        "colab": {
          "base_uri": "https://localhost:8080/"
        },
        "id": "ex-oPxTz95XH",
        "outputId": "5ee2f89f-20a7-4817-dfbf-3db7fad71829"
      }
    },
    {
      "cell_type": "markdown",
      "source": [
        "# Preparação dos dados para treinar e testar"
      ],
      "metadata": {
        "collapsed": false,
        "id": "3WdUrYlH95XI"
      }
    },
    {
      "cell_type": "code",
      "execution_count": null,
      "outputs": [],
      "source": [
        "#Inserindo no pandas para facilitar a manipulação\n",
        "initial_data = pd.read_csv('autos.csv')\n",
        "initial_data = pd.get_dummies(initial_data)\n",
        "labels = initial_data['symboling']\n",
        "# data e declarado dentro da analise de dados"
      ],
      "metadata": {
        "ExecuteTime": {
          "end_time": "2023-05-28T20:03:33.786456565Z",
          "start_time": "2023-05-28T20:03:33.774504124Z"
        },
        "id": "XH-lkRj195XJ"
      }
    },
    {
      "cell_type": "markdown",
      "source": [
        "# Analise dos dados"
      ],
      "metadata": {
        "collapsed": false,
        "id": "bpjKe8C695XK"
      }
    },
    {
      "cell_type": "code",
      "execution_count": null,
      "outputs": [
        {
          "output_type": "execute_result",
          "data": {
            "text/plain": [
              "<function matplotlib.pyplot.plot(*args, scalex=True, scaley=True, data=None, **kwargs)>"
            ]
          },
          "metadata": {},
          "execution_count": 19
        },
        {
          "output_type": "display_data",
          "data": {
            "text/plain": [
              "<Figure size 640x480 with 1 Axes>"
            ],
            "image/png": "[encoded data removed]"
          },
          "metadata": {}
        }
      ],
      "source": [
        "plt.bar(np.unique(labels, return_counts=True)[0], np.unique(labels, return_counts=True)[1])\n",
        "plt.xlabel(\"Classes\")\n",
        "plt.ylabel(\"Quantidade\")\n",
        "plt.plot"
      ],
      "metadata": {
        "ExecuteTime": {
          "end_time": "2023-05-28T20:03:33.930563476Z",
          "start_time": "2023-05-28T20:03:33.803904421Z"
        },
        "colab": {
          "base_uri": "https://localhost:8080/",
          "height": 470
        },
        "id": "8PumjM4195XL",
        "outputId": "3eeebb14-151d-4db4-a88e-eccf78b56619"
      }
    },
    {
      "cell_type": "markdown",
      "source": [
        "Os dados atuais estao muito desbalanceados, um veículo com classificação -2 por exemplo, existem pouquissimos exemplos\n",
        "\n",
        "Existe tambem linhas com valores faltantes (Nan), que devem ser retirados da base"
      ],
      "metadata": {
        "collapsed": false,
        "id": "78YU2z0A95XL"
      }
    },
    {
      "cell_type": "code",
      "execution_count": null,
      "outputs": [
        {
          "output_type": "execute_result",
          "data": {
            "text/plain": [
              "   normalized-losses  wheel-base  length  width  height  curb-weight  \\\n",
              "0                NaN        88.6   168.8   64.1    48.8         2548   \n",
              "1                NaN        88.6   168.8   64.1    48.8         2548   \n",
              "2                NaN        94.5   171.2   65.5    52.4         2823   \n",
              "3              164.0        99.8   176.6   66.2    54.3         2337   \n",
              "4              164.0        99.4   176.6   66.4    54.3         2824   \n",
              "\n",
              "   engine-size  bore  stroke  compression-ratio  ...  num-of-cylinders_twelve  \\\n",
              "0          130  3.47    2.68                9.0  ...                        0   \n",
              "1          130  3.47    2.68                9.0  ...                        0   \n",
              "2          152  2.68    3.47                9.0  ...                        0   \n",
              "3          109  3.19    3.40               10.0  ...                        0   \n",
              "4          136  3.19    3.40                8.0  ...                        0   \n",
              "\n",
              "   num-of-cylinders_two  fuel-system_1bbl  fuel-system_2bbl  fuel-system_4bbl  \\\n",
              "0                     0                 0                 0                 0   \n",
              "1                     0                 0                 0                 0   \n",
              "2                     0                 0                 0                 0   \n",
              "3                     0                 0                 0                 0   \n",
              "4                     0                 0                 0                 0   \n",
              "\n",
              "   fuel-system_idi  fuel-system_mfi  fuel-system_mpfi  fuel-system_spdi  \\\n",
              "0                0                0                 1                 0   \n",
              "1                0                0                 1                 0   \n",
              "2                0                0                 1                 0   \n",
              "3                0                0                 1                 0   \n",
              "4                0                0                 1                 0   \n",
              "\n",
              "   fuel-system_spfi  \n",
              "0                 0  \n",
              "1                 0  \n",
              "2                 0  \n",
              "3                 0  \n",
              "4                 0  \n",
              "\n",
              "[5 rows x 76 columns]"
            ],
            "text/html": [
              "\n",
              "  <div id=\"df-48dbff49-28a7-4f19-bfd4-9f7c264a0a89\">\n",
              "    <div class=\"colab-df-container\">\n",
              "      <div>\n",
              "<style scoped>\n",
              "    .dataframe tbody tr th:only-of-type {\n",
              "        vertical-align: middle;\n",
              "    }\n",
              "\n",
              "    .dataframe tbody tr th {\n",
              "        vertical-align: top;\n",
              "    }\n",
              "\n",
              "    .dataframe thead th {\n",
              "        text-align: right;\n",
              "    }\n",
              "</style>\n",
              "<table border=\"1\" class=\"dataframe\">\n",
              "  <thead>\n",
              "    <tr style=\"text-align: right;\">\n",
              "      <th></th>\n",
              "      <th>normalized-losses</th>\n",
              "      <th>wheel-base</th>\n",
              "      <th>length</th>\n",
              "      <th>width</th>\n",
              "      <th>height</th>\n",
              "      <th>curb-weight</th>\n",
              "      <th>engine-size</th>\n",
              "      <th>bore</th>\n",
              "      <th>stroke</th>\n",
              "      <th>compression-ratio</th>\n",
              "      <th>...</th>\n",
              "      <th>num-of-cylinders_twelve</th>\n",
              "      <th>num-of-cylinders_two</th>\n",
              "      <th>fuel-system_1bbl</th>\n",
              "      <th>fuel-system_2bbl</th>\n",
              "      <th>fuel-system_4bbl</th>\n",
              "      <th>fuel-system_idi</th>\n",
              "      <th>fuel-system_mfi</th>\n",
              "      <th>fuel-system_mpfi</th>\n",
              "      <th>fuel-system_spdi</th>\n",
              "      <th>fuel-system_spfi</th>\n",
              "    </tr>\n",
              "  </thead>\n",
              "  <tbody>\n",
              "    <tr>\n",
              "      <th>0</th>\n",
              "      <td>NaN</td>\n",
              "      <td>88.6</td>\n",
              "      <td>168.8</td>\n",
              "      <td>64.1</td>\n",
              "      <td>48.8</td>\n",
              "      <td>2548</td>\n",
              "      <td>130</td>\n",
              "      <td>3.47</td>\n",
              "      <td>2.68</td>\n",
              "      <td>9.0</td>\n",
              "      <td>...</td>\n",
              "      <td>0</td>\n",
              "      <td>0</td>\n",
              "      <td>0</td>\n",
              "      <td>0</td>\n",
              "      <td>0</td>\n",
              "      <td>0</td>\n",
              "      <td>0</td>\n",
              "      <td>1</td>\n",
              "      <td>0</td>\n",
              "      <td>0</td>\n",
              "    </tr>\n",
              "    <tr>\n",
              "      <th>1</th>\n",
              "      <td>NaN</td>\n",
              "      <td>88.6</td>\n",
              "      <td>168.8</td>\n",
              "      <td>64.1</td>\n",
              "      <td>48.8</td>\n",
              "      <td>2548</td>\n",
              "      <td>130</td>\n",
              "      <td>3.47</td>\n",
              "      <td>2.68</td>\n",
              "      <td>9.0</td>\n",
              "      <td>...</td>\n",
              "      <td>0</td>\n",
              "      <td>0</td>\n",
              "      <td>0</td>\n",
              "      <td>0</td>\n",
              "      <td>0</td>\n",
              "      <td>0</td>\n",
              "      <td>0</td>\n",
              "      <td>1</td>\n",
              "      <td>0</td>\n",
              "      <td>0</td>\n",
              "    </tr>\n",
              "    <tr>\n",
              "      <th>2</th>\n",
              "      <td>NaN</td>\n",
              "      <td>94.5</td>\n",
              "      <td>171.2</td>\n",
              "      <td>65.5</td>\n",
              "      <td>52.4</td>\n",
              "      <td>2823</td>\n",
              "      <td>152</td>\n",
              "      <td>2.68</td>\n",
              "      <td>3.47</td>\n",
              "      <td>9.0</td>\n",
              "      <td>...</td>\n",
              "      <td>0</td>\n",
              "      <td>0</td>\n",
              "      <td>0</td>\n",
              "      <td>0</td>\n",
              "      <td>0</td>\n",
              "      <td>0</td>\n",
              "      <td>0</td>\n",
              "      <td>1</td>\n",
              "      <td>0</td>\n",
              "      <td>0</td>\n",
              "    </tr>\n",
              "    <tr>\n",
              "      <th>3</th>\n",
              "      <td>164.0</td>\n",
              "      <td>99.8</td>\n",
              "      <td>176.6</td>\n",
              "      <td>66.2</td>\n",
              "      <td>54.3</td>\n",
              "      <td>2337</td>\n",
              "      <td>109</td>\n",
              "      <td>3.19</td>\n",
              "      <td>3.40</td>\n",
              "      <td>10.0</td>\n",
              "      <td>...</td>\n",
              "      <td>0</td>\n",
              "      <td>0</td>\n",
              "      <td>0</td>\n",
              "      <td>0</td>\n",
              "      <td>0</td>\n",
              "      <td>0</td>\n",
              "      <td>0</td>\n",
              "      <td>1</td>\n",
              "      <td>0</td>\n",
              "      <td>0</td>\n",
              "    </tr>\n",
              "    <tr>\n",
              "      <th>4</th>\n",
              "      <td>164.0</td>\n",
              "      <td>99.4</td>\n",
              "      <td>176.6</td>\n",
              "      <td>66.4</td>\n",
              "      <td>54.3</td>\n",
              "      <td>2824</td>\n",
              "      <td>136</td>\n",
              "      <td>3.19</td>\n",
              "      <td>3.40</td>\n",
              "      <td>8.0</td>\n",
              "      <td>...</td>\n",
              "      <td>0</td>\n",
              "      <td>0</td>\n",
              "      <td>0</td>\n",
              "      <td>0</td>\n",
              "      <td>0</td>\n",
              "      <td>0</td>\n",
              "      <td>0</td>\n",
              "      <td>1</td>\n",
              "      <td>0</td>\n",
              "      <td>0</td>\n",
              "    </tr>\n",
              "  </tbody>\n",
              "</table>\n",
              "<p>5 rows × 76 columns</p>\n",
              "</div>\n",
              "      <button class=\"colab-df-convert\" onclick=\"convertToInteractive('df-48dbff49-28a7-4f19-bfd4-9f7c264a0a89')\"\n",
              "              title=\"Convert this dataframe to an interactive table.\"\n",
              "              style=\"display:none;\">\n",
              "        \n",
              "  <svg xmlns=\"http://www.w3.org/2000/svg\" height=\"24px\"viewBox=\"0 0 24 24\"\n",
              "       width=\"24px\">\n",
              "    <path d=\"M0 0h24v24H0V0z\" fill=\"none\"/>\n",
              "    <path d=\"M18.56 5.44l.94 2.06.94-2.06 2.06-.94-2.06-.94-.94-2.06-.94 2.06-2.06.94zm-11 1L8.5 8.5l.94-2.06 2.06-.94-2.06-.94L8.5 2.5l-.94 2.06-2.06.94zm10 10l.94 2.06.94-2.06 2.06-.94-2.06-.94-.94-2.06-.94 2.06-2.06.94z\"/><path d=\"M17.41 7.96l-1.37-1.37c-.4-.4-.92-.59-1.43-.59-.52 0-1.04.2-1.43.59L10.3 9.45l-7.72 7.72c-.78.78-.78 2.05 0 2.83L4 21.41c.39.39.9.59 1.41.59.51 0 1.02-.2 1.41-.59l7.78-7.78 2.81-2.81c.8-.78.8-2.07 0-2.86zM5.41 20L4 18.59l7.72-7.72 1.47 1.35L5.41 20z\"/>\n",
              "  </svg>\n",
              "      </button>\n",
              "      \n",
              "  <style>\n",
              "    .colab-df-container {\n",
              "      display:flex;\n",
              "      flex-wrap:wrap;\n",
              "      gap: 12px;\n",
              "    }\n",
              "\n",
              "    .colab-df-convert {\n",
              "      background-color: #E8F0FE;\n",
              "      border: none;\n",
              "      border-radius: 50%;\n",
              "      cursor: pointer;\n",
              "      display: none;\n",
              "      fill: #1967D2;\n",
              "      height: 32px;\n",
              "      padding: 0 0 0 0;\n",
              "      width: 32px;\n",
              "    }\n",
              "\n",
              "    .colab-df-convert:hover {\n",
              "      background-color: #E2EBFA;\n",
              "      box-shadow: 0px 1px 2px rgba(60, 64, 67, 0.3), 0px 1px 3px 1px rgba(60, 64, 67, 0.15);\n",
              "      fill: #174EA6;\n",
              "    }\n",
              "\n",
              "    [theme=dark] .colab-df-convert {\n",
              "      background-color: #3B4455;\n",
              "      fill: #D2E3FC;\n",
              "    }\n",
              "\n",
              "    [theme=dark] .colab-df-convert:hover {\n",
              "      background-color: #434B5C;\n",
              "      box-shadow: 0px 1px 3px 1px rgba(0, 0, 0, 0.15);\n",
              "      filter: drop-shadow(0px 1px 2px rgba(0, 0, 0, 0.3));\n",
              "      fill: #FFFFFF;\n",
              "    }\n",
              "  </style>\n",
              "\n",
              "      <script>\n",
              "        const buttonEl =\n",
              "          document.querySelector('#df-48dbff49-28a7-4f19-bfd4-9f7c264a0a89 button.colab-df-convert');\n",
              "        buttonEl.style.display =\n",
              "          google.colab.kernel.accessAllowed ? 'block' : 'none';\n",
              "\n",
              "        async function convertToInteractive(key) {\n",
              "          const element = document.querySelector('#df-48dbff49-28a7-4f19-bfd4-9f7c264a0a89');\n",
              "          const dataTable =\n",
              "            await google.colab.kernel.invokeFunction('convertToInteractive',\n",
              "                                                     [key], {});\n",
              "          if (!dataTable) return;\n",
              "\n",
              "          const docLinkHtml = 'Like what you see? Visit the ' +\n",
              "            '<a target=\"_blank\" href=https://colab.research.google.com/notebooks/data_table.ipynb>data table notebook</a>'\n",
              "            + ' to learn more about interactive tables.';\n",
              "          element.innerHTML = '';\n",
              "          dataTable['output_type'] = 'display_data';\n",
              "          await google.colab.output.renderOutput(dataTable, element);\n",
              "          const docLink = document.createElement('div');\n",
              "          docLink.innerHTML = docLinkHtml;\n",
              "          element.appendChild(docLink);\n",
              "        }\n",
              "      </script>\n",
              "    </div>\n",
              "  </div>\n",
              "  "
            ]
          },
          "metadata": {},
          "execution_count": 20
        }
      ],
      "source": [
        "initial_data.head(5)"
      ],
      "metadata": {
        "ExecuteTime": {
          "end_time": "2023-05-28T20:03:33.943607959Z",
          "start_time": "2023-05-28T20:03:33.941188953Z"
        },
        "colab": {
          "base_uri": "https://localhost:8080/",
          "height": 297
        },
        "id": "tX_50gaP95XM",
        "outputId": "c13e9be4-bf66-4441-bd55-9c809703dbf3"
      }
    },
    {
      "cell_type": "code",
      "execution_count": null,
      "outputs": [
        {
          "output_type": "execute_result",
          "data": {
            "text/plain": [
              "   normalized-losses  wheel-base  length  width  height  curb-weight  \\\n",
              "0              164.0        99.8   176.6   66.2    54.3         2337   \n",
              "1              164.0        99.4   176.6   66.4    54.3         2824   \n",
              "2              158.0       105.8   192.7   71.4    55.7         2844   \n",
              "3              158.0       105.8   192.7   71.4    55.9         3086   \n",
              "4              192.0       101.2   176.8   64.8    54.3         2395   \n",
              "\n",
              "   engine-size  bore  stroke  compression-ratio  ...  num-of-cylinders_twelve  \\\n",
              "0          109  3.19     3.4               10.0  ...                        0   \n",
              "1          136  3.19     3.4                8.0  ...                        0   \n",
              "2          136  3.19     3.4                8.5  ...                        0   \n",
              "3          131  3.13     3.4                8.3  ...                        0   \n",
              "4          108  3.50     2.8                8.8  ...                        0   \n",
              "\n",
              "   num-of-cylinders_two  fuel-system_1bbl  fuel-system_2bbl  fuel-system_4bbl  \\\n",
              "0                     0                 0                 0                 0   \n",
              "1                     0                 0                 0                 0   \n",
              "2                     0                 0                 0                 0   \n",
              "3                     0                 0                 0                 0   \n",
              "4                     0                 0                 0                 0   \n",
              "\n",
              "   fuel-system_idi  fuel-system_mfi  fuel-system_mpfi  fuel-system_spdi  \\\n",
              "0                0                0                 1                 0   \n",
              "1                0                0                 1                 0   \n",
              "2                0                0                 1                 0   \n",
              "3                0                0                 1                 0   \n",
              "4                0                0                 1                 0   \n",
              "\n",
              "   fuel-system_spfi  \n",
              "0                 0  \n",
              "1                 0  \n",
              "2                 0  \n",
              "3                 0  \n",
              "4                 0  \n",
              "\n",
              "[5 rows x 75 columns]"
            ],
            "text/html": [
              "\n",
              "  <div id=\"df-5ce53319-af71-49b5-a9e2-37b84779e829\">\n",
              "    <div class=\"colab-df-container\">\n",
              "      <div>\n",
              "<style scoped>\n",
              "    .dataframe tbody tr th:only-of-type {\n",
              "        vertical-align: middle;\n",
              "    }\n",
              "\n",
              "    .dataframe tbody tr th {\n",
              "        vertical-align: top;\n",
              "    }\n",
              "\n",
              "    .dataframe thead th {\n",
              "        text-align: right;\n",
              "    }\n",
              "</style>\n",
              "<table border=\"1\" class=\"dataframe\">\n",
              "  <thead>\n",
              "    <tr style=\"text-align: right;\">\n",
              "      <th></th>\n",
              "      <th>normalized-losses</th>\n",
              "      <th>wheel-base</th>\n",
              "      <th>length</th>\n",
              "      <th>width</th>\n",
              "      <th>height</th>\n",
              "      <th>curb-weight</th>\n",
              "      <th>engine-size</th>\n",
              "      <th>bore</th>\n",
              "      <th>stroke</th>\n",
              "      <th>compression-ratio</th>\n",
              "      <th>...</th>\n",
              "      <th>num-of-cylinders_twelve</th>\n",
              "      <th>num-of-cylinders_two</th>\n",
              "      <th>fuel-system_1bbl</th>\n",
              "      <th>fuel-system_2bbl</th>\n",
              "      <th>fuel-system_4bbl</th>\n",
              "      <th>fuel-system_idi</th>\n",
              "      <th>fuel-system_mfi</th>\n",
              "      <th>fuel-system_mpfi</th>\n",
              "      <th>fuel-system_spdi</th>\n",
              "      <th>fuel-system_spfi</th>\n",
              "    </tr>\n",
              "  </thead>\n",
              "  <tbody>\n",
              "    <tr>\n",
              "      <th>0</th>\n",
              "      <td>164.0</td>\n",
              "      <td>99.8</td>\n",
              "      <td>176.6</td>\n",
              "      <td>66.2</td>\n",
              "      <td>54.3</td>\n",
              "      <td>2337</td>\n",
              "      <td>109</td>\n",
              "      <td>3.19</td>\n",
              "      <td>3.4</td>\n",
              "      <td>10.0</td>\n",
              "      <td>...</td>\n",
              "      <td>0</td>\n",
              "      <td>0</td>\n",
              "      <td>0</td>\n",
              "      <td>0</td>\n",
              "      <td>0</td>\n",
              "      <td>0</td>\n",
              "      <td>0</td>\n",
              "      <td>1</td>\n",
              "      <td>0</td>\n",
              "      <td>0</td>\n",
              "    </tr>\n",
              "    <tr>\n",
              "      <th>1</th>\n",
              "      <td>164.0</td>\n",
              "      <td>99.4</td>\n",
              "      <td>176.6</td>\n",
              "      <td>66.4</td>\n",
              "      <td>54.3</td>\n",
              "      <td>2824</td>\n",
              "      <td>136</td>\n",
              "      <td>3.19</td>\n",
              "      <td>3.4</td>\n",
              "      <td>8.0</td>\n",
              "      <td>...</td>\n",
              "      <td>0</td>\n",
              "      <td>0</td>\n",
              "      <td>0</td>\n",
              "      <td>0</td>\n",
              "      <td>0</td>\n",
              "      <td>0</td>\n",
              "      <td>0</td>\n",
              "      <td>1</td>\n",
              "      <td>0</td>\n",
              "      <td>0</td>\n",
              "    </tr>\n",
              "    <tr>\n",
              "      <th>2</th>\n",
              "      <td>158.0</td>\n",
              "      <td>105.8</td>\n",
              "      <td>192.7</td>\n",
              "      <td>71.4</td>\n",
              "      <td>55.7</td>\n",
              "      <td>2844</td>\n",
              "      <td>136</td>\n",
              "      <td>3.19</td>\n",
              "      <td>3.4</td>\n",
              "      <td>8.5</td>\n",
              "      <td>...</td>\n",
              "      <td>0</td>\n",
              "      <td>0</td>\n",
              "      <td>0</td>\n",
              "      <td>0</td>\n",
              "      <td>0</td>\n",
              "      <td>0</td>\n",
              "      <td>0</td>\n",
              "      <td>1</td>\n",
              "      <td>0</td>\n",
              "      <td>0</td>\n",
              "    </tr>\n",
              "    <tr>\n",
              "      <th>3</th>\n",
              "      <td>158.0</td>\n",
              "      <td>105.8</td>\n",
              "      <td>192.7</td>\n",
              "      <td>71.4</td>\n",
              "      <td>55.9</td>\n",
              "      <td>3086</td>\n",
              "      <td>131</td>\n",
              "      <td>3.13</td>\n",
              "      <td>3.4</td>\n",
              "      <td>8.3</td>\n",
              "      <td>...</td>\n",
              "      <td>0</td>\n",
              "      <td>0</td>\n",
              "      <td>0</td>\n",
              "      <td>0</td>\n",
              "      <td>0</td>\n",
              "      <td>0</td>\n",
              "      <td>0</td>\n",
              "      <td>1</td>\n",
              "      <td>0</td>\n",
              "      <td>0</td>\n",
              "    </tr>\n",
              "    <tr>\n",
              "      <th>4</th>\n",
              "      <td>192.0</td>\n",
              "      <td>101.2</td>\n",
              "      <td>176.8</td>\n",
              "      <td>64.8</td>\n",
              "      <td>54.3</td>\n",
              "      <td>2395</td>\n",
              "      <td>108</td>\n",
              "      <td>3.50</td>\n",
              "      <td>2.8</td>\n",
              "      <td>8.8</td>\n",
              "      <td>...</td>\n",
              "      <td>0</td>\n",
              "      <td>0</td>\n",
              "      <td>0</td>\n",
              "      <td>0</td>\n",
              "      <td>0</td>\n",
              "      <td>0</td>\n",
              "      <td>0</td>\n",
              "      <td>1</td>\n",
              "      <td>0</td>\n",
              "      <td>0</td>\n",
              "    </tr>\n",
              "  </tbody>\n",
              "</table>\n",
              "<p>5 rows × 75 columns</p>\n",
              "</div>\n",
              "      <button class=\"colab-df-convert\" onclick=\"convertToInteractive('df-5ce53319-af71-49b5-a9e2-37b84779e829')\"\n",
              "              title=\"Convert this dataframe to an interactive table.\"\n",
              "              style=\"display:none;\">\n",
              "        \n",
              "  <svg xmlns=\"http://www.w3.org/2000/svg\" height=\"24px\"viewBox=\"0 0 24 24\"\n",
              "       width=\"24px\">\n",
              "    <path d=\"M0 0h24v24H0V0z\" fill=\"none\"/>\n",
              "    <path d=\"M18.56 5.44l.94 2.06.94-2.06 2.06-.94-2.06-.94-.94-2.06-.94 2.06-2.06.94zm-11 1L8.5 8.5l.94-2.06 2.06-.94-2.06-.94L8.5 2.5l-.94 2.06-2.06.94zm10 10l.94 2.06.94-2.06 2.06-.94-2.06-.94-.94-2.06-.94 2.06-2.06.94z\"/><path d=\"M17.41 7.96l-1.37-1.37c-.4-.4-.92-.59-1.43-.59-.52 0-1.04.2-1.43.59L10.3 9.45l-7.72 7.72c-.78.78-.78 2.05 0 2.83L4 21.41c.39.39.9.59 1.41.59.51 0 1.02-.2 1.41-.59l7.78-7.78 2.81-2.81c.8-.78.8-2.07 0-2.86zM5.41 20L4 18.59l7.72-7.72 1.47 1.35L5.41 20z\"/>\n",
              "  </svg>\n",
              "      </button>\n",
              "      \n",
              "  <style>\n",
              "    .colab-df-container {\n",
              "      display:flex;\n",
              "      flex-wrap:wrap;\n",
              "      gap: 12px;\n",
              "    }\n",
              "\n",
              "    .colab-df-convert {\n",
              "      background-color: #E8F0FE;\n",
              "      border: none;\n",
              "      border-radius: 50%;\n",
              "      cursor: pointer;\n",
              "      display: none;\n",
              "      fill: #1967D2;\n",
              "      height: 32px;\n",
              "      padding: 0 0 0 0;\n",
              "      width: 32px;\n",
              "    }\n",
              "\n",
              "    .colab-df-convert:hover {\n",
              "      background-color: #E2EBFA;\n",
              "      box-shadow: 0px 1px 2px rgba(60, 64, 67, 0.3), 0px 1px 3px 1px rgba(60, 64, 67, 0.15);\n",
              "      fill: #174EA6;\n",
              "    }\n",
              "\n",
              "    [theme=dark] .colab-df-convert {\n",
              "      background-color: #3B4455;\n",
              "      fill: #D2E3FC;\n",
              "    }\n",
              "\n",
              "    [theme=dark] .colab-df-convert:hover {\n",
              "      background-color: #434B5C;\n",
              "      box-shadow: 0px 1px 3px 1px rgba(0, 0, 0, 0.15);\n",
              "      filter: drop-shadow(0px 1px 2px rgba(0, 0, 0, 0.3));\n",
              "      fill: #FFFFFF;\n",
              "    }\n",
              "  </style>\n",
              "\n",
              "      <script>\n",
              "        const buttonEl =\n",
              "          document.querySelector('#df-5ce53319-af71-49b5-a9e2-37b84779e829 button.colab-df-convert');\n",
              "        buttonEl.style.display =\n",
              "          google.colab.kernel.accessAllowed ? 'block' : 'none';\n",
              "\n",
              "        async function convertToInteractive(key) {\n",
              "          const element = document.querySelector('#df-5ce53319-af71-49b5-a9e2-37b84779e829');\n",
              "          const dataTable =\n",
              "            await google.colab.kernel.invokeFunction('convertToInteractive',\n",
              "                                                     [key], {});\n",
              "          if (!dataTable) return;\n",
              "\n",
              "          const docLinkHtml = 'Like what you see? Visit the ' +\n",
              "            '<a target=\"_blank\" href=https://colab.research.google.com/notebooks/data_table.ipynb>data table notebook</a>'\n",
              "            + ' to learn more about interactive tables.';\n",
              "          element.innerHTML = '';\n",
              "          dataTable['output_type'] = 'display_data';\n",
              "          await google.colab.output.renderOutput(dataTable, element);\n",
              "          const docLink = document.createElement('div');\n",
              "          docLink.innerHTML = docLinkHtml;\n",
              "          element.appendChild(docLink);\n",
              "        }\n",
              "      </script>\n",
              "    </div>\n",
              "  </div>\n",
              "  "
            ]
          },
          "metadata": {},
          "execution_count": 21
        }
      ],
      "source": [
        "initial_data = initial_data.dropna(axis=0).reset_index(drop=True)\n",
        "labels = initial_data['symboling']\n",
        "data = initial_data.drop('symboling', axis=1)\n",
        "data.head(5) # data agora esta sem as linhas com valores Nan"
      ],
      "metadata": {
        "ExecuteTime": {
          "end_time": "2023-05-28T20:03:33.985488435Z",
          "start_time": "2023-05-28T20:03:33.946624265Z"
        },
        "colab": {
          "base_uri": "https://localhost:8080/",
          "height": 297
        },
        "id": "AVfkMvv295XM",
        "outputId": "706099e8-134e-48a4-acd0-cce69b5d7e39"
      }
    },
    {
      "cell_type": "code",
      "execution_count": null,
      "outputs": [
        {
          "output_type": "execute_result",
          "data": {
            "text/plain": [
              "<function matplotlib.pyplot.plot(*args, scalex=True, scaley=True, data=None, **kwargs)>"
            ]
          },
          "metadata": {},
          "execution_count": 22
        },
        {
          "output_type": "display_data",
          "data": {
            "text/plain": [
              "<Figure size 640x480 with 1 Axes>"
            ],
            "image/png": "[encoded data removed]"
          },
          "metadata": {}
        }
      ],
      "source": [
        "over_sampler = RandomOverSampler(random_state=9999)\n",
        "data, labels = over_sampler.fit_resample(data, labels)\n",
        "\n",
        "plt.bar(np.unique(labels, return_counts=True)[0], np.unique(labels, return_counts=True)[1])\n",
        "plt.xlabel(\"Classes\")\n",
        "plt.ylabel(\"Quantidade\")\n",
        "plt.plot"
      ],
      "metadata": {
        "ExecuteTime": {
          "end_time": "2023-05-28T20:03:34.137161039Z",
          "start_time": "2023-05-28T20:03:33.965197190Z"
        },
        "colab": {
          "base_uri": "https://localhost:8080/",
          "height": 469
        },
        "id": "DaAiPS_Z95XN",
        "outputId": "8bb8f101-1dcd-4bd8-cfa8-790dd6d9cb9a"
      }
    },
    {
      "cell_type": "markdown",
      "source": [
        "Agora as classes estao balanceadas"
      ],
      "metadata": {
        "collapsed": false,
        "id": "8ENz7e7q95XO"
      }
    },
    {
      "cell_type": "markdown",
      "source": [
        "# Separando base para treinamento e teste"
      ],
      "metadata": {
        "collapsed": false,
        "id": "vg5pDZ2h95XP"
      }
    },
    {
      "cell_type": "code",
      "execution_count": null,
      "outputs": [],
      "source": [
        "data_train, data_test, labels_train, labels_test = train_test_split(data, labels, test_size=0.3, random_state=9999)"
      ],
      "metadata": {
        "ExecuteTime": {
          "end_time": "2023-05-28T20:03:34.137519907Z",
          "start_time": "2023-05-28T20:03:34.129090075Z"
        },
        "id": "yhlNZzBL95XP"
      }
    },
    {
      "cell_type": "markdown",
      "source": [
        "# Criando e Treinando os modelos"
      ],
      "metadata": {
        "collapsed": false,
        "id": "nzUJEdul95XP"
      }
    },
    {
      "cell_type": "code",
      "execution_count": null,
      "outputs": [
        {
          "output_type": "stream",
          "name": "stdout",
          "text": [
            "Tempo médio de treinamento para a arvore: 0.00349574089050293\n",
            "Tempo médio de treinamento para o MLP: 0.1310323715209961\n",
            "Tempo médio de treinamento para o bagging da arvore: 0.03402490615844726\n",
            "Tempo médio de treinamento para o bagging do MLP: 1.570600414276123\n",
            "Tempo médio de treinamento para o boosting da arvore: 0.0069637298583984375\n"
          ]
        }
      ],
      "source": [
        "rodadas = 5\n",
        "\n",
        "times = []\n",
        "tree = None\n",
        "for _ in range(rodadas):\n",
        "    tree = DecisionTreeClassifier()\n",
        "    s_time = time.time()\n",
        "    tree.fit(data_train, labels_train)\n",
        "    times.append(time.time()-s_time)\n",
        "print(f\"Tempo médio de treinamento para a arvore: {np.mean(times)}\")\n",
        "\n",
        "times = []\n",
        "mlp = None\n",
        "for _ in range(rodadas):\n",
        "    mlp = MLPClassifier(hidden_layer_sizes=(100, 100), learning_rate_init=0.001, max_iter=2000, random_state=70)\n",
        "    s_time = time.time()\n",
        "    mlp.fit(data_train, labels_train)\n",
        "    times.append(time.time()-s_time)\n",
        "print(f\"Tempo médio de treinamento para o MLP: {np.mean(times)}\")\n",
        "\n",
        "times = []\n",
        "bagging_tree = None\n",
        "for _ in range(rodadas):\n",
        "    bagging_tree = BaggingClassifier(estimator=tree, n_estimators=10, random_state=0, max_features=0.7, bootstrap_features=True, max_samples=1.0,bootstrap=True)\n",
        "    s_time = time.time()\n",
        "    bagging_tree.fit(data_train, labels_train)\n",
        "    times.append(time.time()-s_time)\n",
        "print(f\"Tempo médio de treinamento para o bagging da arvore: {np.mean(times)}\")\n",
        "\n",
        "times = []\n",
        "bagging_mlp = None\n",
        "for _ in range(rodadas):\n",
        "    bagging_mlp = BaggingClassifier(estimator=mlp, n_estimators=10, random_state=0, max_features=0.7, bootstrap_features=True, max_samples=1.0,bootstrap=True)\n",
        "    s_time = time.time()\n",
        "    bagging_mlp.fit(data_train, labels_train)\n",
        "    times.append(time.time()-s_time)\n",
        "print(f\"Tempo médio de treinamento para o bagging do MLP: {np.mean(times)}\")\n",
        "\n",
        "times = []\n",
        "tree_boosting = None\n",
        "for _ in range(rodadas):\n",
        "    tree_boosting = AdaBoostClassifier(estimator=tree, n_estimators=50)\n",
        "    s_time = time.time()\n",
        "    tree_boosting.fit(data_train, labels_train)\n",
        "    times.append(time.time()-s_time)\n",
        "print(f\"Tempo médio de treinamento para o boosting da arvore: {np.mean(times)}\")"
      ],
      "metadata": {
        "ExecuteTime": {
          "end_time": "2023-05-28T20:03:39.874078642Z",
          "start_time": "2023-05-28T20:03:34.145622929Z"
        },
        "colab": {
          "base_uri": "https://localhost:8080/"
        },
        "id": "ZwsvIarl95XP",
        "outputId": "f234da84-755f-45d0-c14e-4267feedaaae"
      }
    },
    {
      "cell_type": "markdown",
      "source": [
        "Para a árvore, o tempo de treinamento foi veloz para todos os casos, mas para o mlp, foi devagar, principalmente com o bagging, com uma média (normalmente) maior que 1.5 segundos"
      ],
      "metadata": {
        "collapsed": false,
        "id": "MgGcwn7i95XQ"
      }
    },
    {
      "cell_type": "markdown",
      "source": [
        "# Testando os modelos"
      ],
      "metadata": {
        "collapsed": false,
        "id": "PWi7Xrfc95XQ"
      }
    },
    {
      "cell_type": "code",
      "execution_count": null,
      "outputs": [
        {
          "output_type": "stream",
          "name": "stdout",
          "text": [
            "Tempo médio de teste para a arvore: 0.0029191493988037108\n",
            "Tempo médio de teste para o MLP: 0.003536415100097656\n",
            "Tempo médio de teste para o bagging da arvore: 0.004860401153564453\n",
            "Tempo médio de teste para o bagging do MLP: 0.010748815536499024\n",
            "Tempo médio de teste para o boosting da arvore: 0.00286250114440918\n"
          ]
        }
      ],
      "source": [
        "times = []\n",
        "tree_predict = None\n",
        "for _ in range(rodadas):\n",
        "    s_time = time.time()\n",
        "    tree_predict = tree.predict(data_test)\n",
        "    times.append(time.time()-s_time)\n",
        "print(f\"Tempo médio de teste para a arvore: {np.mean(times)}\")\n",
        "\n",
        "times = []\n",
        "mlp_predict = None\n",
        "for _ in range(rodadas):\n",
        "    s_time = time.time()\n",
        "    mlp_predict = mlp.predict(data_test)\n",
        "    times.append(time.time()-s_time)\n",
        "print(f\"Tempo médio de teste para o MLP: {np.mean(times)}\")\n",
        "\n",
        "times = []\n",
        "tree_bagging_predict = None\n",
        "for _ in range(rodadas):\n",
        "    s_time = time.time()\n",
        "    tree_bagging_predict = bagging_tree.predict(data_test)\n",
        "    times.append(time.time()-s_time)\n",
        "print(f\"Tempo médio de teste para o bagging da arvore: {np.mean(times)}\")\n",
        "\n",
        "times = []\n",
        "mlp_bagging_predict = None\n",
        "for _ in range(rodadas):\n",
        "    s_time = time.time()\n",
        "    mlp_bagging_predict = bagging_mlp.predict(data_test)\n",
        "    times.append(time.time()-s_time)\n",
        "print(f\"Tempo médio de teste para o bagging do MLP: {np.mean(times)}\")\n",
        "\n",
        "times = []\n",
        "tree_boosting_predict = None\n",
        "for _ in range(rodadas):\n",
        "    s_time = time.time()\n",
        "    tree_boosting_predict = tree_boosting.predict(data_test)\n",
        "    times.append(time.time()-s_time)\n",
        "print(f\"Tempo médio de teste para o boosting da arvore: {np.mean(times)}\")"
      ],
      "metadata": {
        "ExecuteTime": {
          "end_time": "2023-05-28T20:03:39.967988338Z",
          "start_time": "2023-05-28T20:03:39.885291342Z"
        },
        "colab": {
          "base_uri": "https://localhost:8080/"
        },
        "id": "lmk2TGjz95XR",
        "outputId": "9b6f72e5-531f-4a86-c75f-631a0bffa188"
      }
    },
    {
      "cell_type": "markdown",
      "source": [
        "Os modelos com os parametros usados, possuem um tempo de teste extremamente veloz, mas o mlp ainda tem uma velocidade um pouco menor comparado com a árvore"
      ],
      "metadata": {
        "collapsed": false,
        "id": "kvjJ2cht95XR"
      }
    },
    {
      "cell_type": "markdown",
      "source": [
        "# Analise da acurácia no teste dos modelos"
      ],
      "metadata": {
        "collapsed": false,
        "id": "ZDN5f2Mi95XR"
      }
    },
    {
      "cell_type": "markdown",
      "source": [
        "### Arvore"
      ],
      "metadata": {
        "collapsed": false,
        "id": "NmFdk-1c95XR"
      }
    },
    {
      "cell_type": "code",
      "execution_count": null,
      "outputs": [
        {
          "output_type": "stream",
          "name": "stdout",
          "text": [
            "              precision    recall  f1-score   support\n",
            "\n",
            "          -2       1.00      1.00      1.00        16\n",
            "          -1       0.93      1.00      0.97        14\n",
            "           0       0.91      0.83      0.87        12\n",
            "           1       0.89      0.80      0.84        20\n",
            "           2       0.92      0.92      0.92        13\n",
            "           3       0.86      1.00      0.92        12\n",
            "\n",
            "    accuracy                           0.92        87\n",
            "   macro avg       0.92      0.93      0.92        87\n",
            "weighted avg       0.92      0.92      0.92        87\n",
            "\n"
          ]
        },
        {
          "output_type": "display_data",
          "data": {
            "text/plain": [
              "<Figure size 640x480 with 2 Axes>"
            ],
            "image/png": "[encoded data removed]"
          },
          "metadata": {}
        }
      ],
      "source": [
        "# ARVORE\n",
        "print(f\"{classification_report(labels_test, tree_predict)}\")\n",
        "disp = ConfusionMatrixDisplay(confusion_matrix(labels_test, tree_predict), display_labels=[-2,-1,0,1,2,3])\n",
        "disp.plot()\n",
        "plt.show()"
      ],
      "metadata": {
        "ExecuteTime": {
          "end_time": "2023-05-28T20:03:40.123869523Z",
          "start_time": "2023-05-28T20:03:39.971201298Z"
        },
        "colab": {
          "base_uri": "https://localhost:8080/",
          "height": 681
        },
        "id": "NjGNr4Wl95XS",
        "outputId": "a2ff1aab-0823-4c17-a6c9-58c7a65d0763"
      }
    },
    {
      "cell_type": "code",
      "execution_count": null,
      "outputs": [
        {
          "output_type": "stream",
          "name": "stdout",
          "text": [
            "              precision    recall  f1-score   support\n",
            "\n",
            "          -2       1.00      1.00      1.00        16\n",
            "          -1       0.93      0.93      0.93        14\n",
            "           0       0.91      0.83      0.87        12\n",
            "           1       0.89      0.85      0.87        20\n",
            "           2       1.00      1.00      1.00        13\n",
            "           3       0.86      1.00      0.92        12\n",
            "\n",
            "    accuracy                           0.93        87\n",
            "   macro avg       0.93      0.94      0.93        87\n",
            "weighted avg       0.93      0.93      0.93        87\n",
            "\n"
          ]
        },
        {
          "output_type": "display_data",
          "data": {
            "text/plain": [
              "<Figure size 640x480 with 2 Axes>"
            ],
            "image/png": "[encoded data removed]"
          },
          "metadata": {}
        }
      ],
      "source": [
        "# ARVORE BAGGING\n",
        "print(f\"{classification_report(labels_test, tree_bagging_predict)}\")\n",
        "disp = ConfusionMatrixDisplay(confusion_matrix(labels_test, tree_bagging_predict), display_labels=[-2,-1,0,1,2,3])\n",
        "disp.plot()\n",
        "plt.show()"
      ],
      "metadata": {
        "ExecuteTime": {
          "end_time": "2023-05-28T20:03:40.328407445Z",
          "start_time": "2023-05-28T20:03:40.126721314Z"
        },
        "colab": {
          "base_uri": "https://localhost:8080/",
          "height": 675
        },
        "id": "52CTzNJM95XS",
        "outputId": "e561f3fa-6751-4036-f6f2-4648f6f03345"
      }
    },
    {
      "cell_type": "code",
      "execution_count": null,
      "outputs": [
        {
          "output_type": "stream",
          "name": "stdout",
          "text": [
            "              precision    recall  f1-score   support\n",
            "\n",
            "          -2       1.00      1.00      1.00        16\n",
            "          -1       0.93      1.00      0.97        14\n",
            "           0       0.91      0.83      0.87        12\n",
            "           1       0.88      0.75      0.81        20\n",
            "           2       0.86      0.92      0.89        13\n",
            "           3       0.86      1.00      0.92        12\n",
            "\n",
            "    accuracy                           0.91        87\n",
            "   macro avg       0.91      0.92      0.91        87\n",
            "weighted avg       0.91      0.91      0.91        87\n",
            "\n"
          ]
        },
        {
          "output_type": "display_data",
          "data": {
            "text/plain": [
              "<Figure size 640x480 with 2 Axes>"
            ],
            "image/png": "[encoded data removed]"
          },
          "metadata": {}
        }
      ],
      "source": [
        "# ARVORE BOOSTING\n",
        "print(f\"{classification_report(labels_test, tree_boosting_predict)}\")\n",
        "disp = ConfusionMatrixDisplay(confusion_matrix(labels_test, tree_boosting_predict), display_labels=[-2,-1,0,1,2,3])\n",
        "disp.plot()\n",
        "plt.show()"
      ],
      "metadata": {
        "ExecuteTime": {
          "end_time": "2023-05-28T20:03:40.490329273Z",
          "start_time": "2023-05-28T20:03:40.320333655Z"
        },
        "colab": {
          "base_uri": "https://localhost:8080/",
          "height": 681
        },
        "id": "9FRBhbd495XS",
        "outputId": "e56fe23e-68d4-4285-a7d9-43d61fdd3669"
      }
    },
    {
      "cell_type": "markdown",
      "source": [
        "A acurácia da árvore foi de 91%, enquanto o com bagging foi de 93% e boosting 92%, então a diferença da acurácia destes a diferença é mínima"
      ],
      "metadata": {
        "collapsed": false,
        "id": "SNHgOrUR95XT"
      }
    },
    {
      "cell_type": "markdown",
      "source": [
        "### MLP"
      ],
      "metadata": {
        "collapsed": false,
        "id": "OiTzv1ru95XT"
      }
    },
    {
      "cell_type": "code",
      "execution_count": null,
      "outputs": [
        {
          "output_type": "stream",
          "name": "stderr",
          "text": [
            "/usr/local/lib/python3.10/dist-packages/sklearn/metrics/_classification.py:1344: UndefinedMetricWarning: Precision and F-score are ill-defined and being set to 0.0 in labels with no predicted samples. Use `zero_division` parameter to control this behavior.\n",
            "  _warn_prf(average, modifier, msg_start, len(result))\n",
            "/usr/local/lib/python3.10/dist-packages/sklearn/metrics/_classification.py:1344: UndefinedMetricWarning: Precision and F-score are ill-defined and being set to 0.0 in labels with no predicted samples. Use `zero_division` parameter to control this behavior.\n",
            "  _warn_prf(average, modifier, msg_start, len(result))\n",
            "/usr/local/lib/python3.10/dist-packages/sklearn/metrics/_classification.py:1344: UndefinedMetricWarning: Precision and F-score are ill-defined and being set to 0.0 in labels with no predicted samples. Use `zero_division` parameter to control this behavior.\n",
            "  _warn_prf(average, modifier, msg_start, len(result))\n"
          ]
        },
        {
          "output_type": "stream",
          "name": "stdout",
          "text": [
            "              precision    recall  f1-score   support\n",
            "\n",
            "          -2       0.00      0.00      0.00        16\n",
            "          -1       0.25      0.07      0.11        14\n",
            "           0       0.00      0.00      0.00        12\n",
            "           1       0.70      0.80      0.74        20\n",
            "           2       0.00      0.00      0.00        13\n",
            "           3       0.15      0.75      0.25        12\n",
            "\n",
            "    accuracy                           0.30        87\n",
            "   macro avg       0.18      0.27      0.18        87\n",
            "weighted avg       0.22      0.30      0.22        87\n",
            "\n"
          ]
        },
        {
          "output_type": "display_data",
          "data": {
            "text/plain": [
              "<Figure size 640x480 with 2 Axes>"
            ],
            "image/png": "[encoded data removed]"
          },
          "metadata": {}
        }
      ],
      "source": [
        "# MLP\n",
        "print(f\"{classification_report(labels_test, mlp_predict)}\")\n",
        "disp = ConfusionMatrixDisplay(confusion_matrix(labels_test, mlp_predict), display_labels=[-2,-1,0,1,2,3])\n",
        "disp.plot()\n",
        "plt.show()"
      ],
      "metadata": {
        "ExecuteTime": {
          "end_time": "2023-05-28T20:03:40.674738351Z",
          "start_time": "2023-05-28T20:03:40.488066964Z"
        },
        "colab": {
          "base_uri": "https://localhost:8080/",
          "height": 805
        },
        "id": "rEVcIezH95XT",
        "outputId": "e70408f3-0e1d-4821-e19c-bfd7f02838a5"
      }
    },
    {
      "cell_type": "code",
      "execution_count": null,
      "outputs": [
        {
          "output_type": "stream",
          "name": "stderr",
          "text": [
            "/usr/local/lib/python3.10/dist-packages/sklearn/metrics/_classification.py:1344: UndefinedMetricWarning: Precision and F-score are ill-defined and being set to 0.0 in labels with no predicted samples. Use `zero_division` parameter to control this behavior.\n",
            "  _warn_prf(average, modifier, msg_start, len(result))\n",
            "/usr/local/lib/python3.10/dist-packages/sklearn/metrics/_classification.py:1344: UndefinedMetricWarning: Precision and F-score are ill-defined and being set to 0.0 in labels with no predicted samples. Use `zero_division` parameter to control this behavior.\n",
            "  _warn_prf(average, modifier, msg_start, len(result))\n",
            "/usr/local/lib/python3.10/dist-packages/sklearn/metrics/_classification.py:1344: UndefinedMetricWarning: Precision and F-score are ill-defined and being set to 0.0 in labels with no predicted samples. Use `zero_division` parameter to control this behavior.\n",
            "  _warn_prf(average, modifier, msg_start, len(result))\n"
          ]
        },
        {
          "output_type": "stream",
          "name": "stdout",
          "text": [
            "              precision    recall  f1-score   support\n",
            "\n",
            "          -2       0.00      0.00      0.00        16\n",
            "          -1       0.43      0.93      0.59        14\n",
            "           0       0.00      0.00      0.00        12\n",
            "           1       0.49      0.90      0.63        20\n",
            "           2       0.00      0.00      0.00        13\n",
            "           3       0.55      0.92      0.69        12\n",
            "\n",
            "    accuracy                           0.48        87\n",
            "   macro avg       0.24      0.46      0.32        87\n",
            "weighted avg       0.26      0.48      0.34        87\n",
            "\n"
          ]
        },
        {
          "output_type": "display_data",
          "data": {
            "text/plain": [
              "<Figure size 640x480 with 2 Axes>"
            ],
            "image/png": "[encoded data removed]"
          },
          "metadata": {}
        }
      ],
      "source": [
        "# MLP BAGGING\n",
        "print(f\"{classification_report(labels_test, mlp_bagging_predict)}\")\n",
        "disp = ConfusionMatrixDisplay(confusion_matrix(labels_test, mlp_bagging_predict), display_labels=[-2,-1,0,1,2,3])\n",
        "disp.plot()\n",
        "plt.show()"
      ],
      "metadata": {
        "ExecuteTime": {
          "end_time": "2023-05-28T20:03:40.946000846Z",
          "start_time": "2023-05-28T20:03:40.656024538Z"
        },
        "colab": {
          "base_uri": "https://localhost:8080/",
          "height": 805
        },
        "id": "hVEWw_g395XT",
        "outputId": "f42fc975-531b-4d29-9356-a78c947c97e6"
      }
    },
    {
      "cell_type": "markdown",
      "source": [
        "No geral, a acurácia do mlp tanto sem e com bagging foi mais baixa que a da árvore de decisão, mas entre os dois testes com mlp, mlp com bagging teve um aumento de 18% na acurácia total de 48%, muito maior que a diferença do bagging em uma árvore de decisão"
      ],
      "metadata": {
        "collapsed": false,
        "id": "gb2ejBf695XU"
      }
    },
    {
      "cell_type": "code",
      "execution_count": null,
      "outputs": [],
      "source": [],
      "metadata": {
        "id": "wBuDckbx95XU"
      }
    }
  ],
  "metadata": {
    "kernelspec": {
      "display_name": "Python 3",
      "language": "python",
      "name": "python3"
    },
    "language_info": {
      "codemirror_mode": {
        "name": "ipython",
        "version": 2
      },
      "file_extension": ".py",
      "mimetype": "text/x-python",
      "name": "python",
      "nbconvert_exporter": "python",
      "pygments_lexer": "ipython2",
      "version": "2.7.6"
    },
    "colab": {
      "provenance": [],
      "include_colab_link": true
    }
  },
  "nbformat": 4,
  "nbformat_minor": 0
}